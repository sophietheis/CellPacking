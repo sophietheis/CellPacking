{
 "cells": [
  {
   "cell_type": "code",
   "execution_count": null,
   "id": "fcf3b947",
   "metadata": {},
   "outputs": [],
   "source": [
    "import os\n",
    "import json\n",
    "import numpy as np\n",
    "import pandas as pd\n",
    "\n",
    "from tyssue import Sheet\n",
    "from tyssue.io import hdf5\n",
    "from tyssue.utils.utils import _to_3d, to_nd\n",
    "from tyssue.dynamics.sheet_gradients import height_grad\n",
    "from tyssue.dynamics import units, effectors, model_factory\n",
    "from tyssue import Monolayer, MonolayerGeometry, ClosedMonolayerGeometry, SheetGeometry\n",
    "from tyssue.generation import extrude\n",
    "\n",
    "\n",
    "from tyssue.behaviors.event_manager import EventManager\n",
    "from tyssue.behaviors.sheet.basic_events import reconnect, reconnect_3D\n",
    "from tyssue.dynamics import model_factory, effectors\n",
    "\n",
    "from tyssue.solvers import QSSolver\n",
    "\n",
    "from tyssue.io.hdf5 import save_datasets\n",
    "\n",
    "from tyssue.draw import sheet_view\n",
    "import ipyvolume as ipv"
   ]
  },
  {
   "cell_type": "code",
   "execution_count": null,
   "id": "f533f60d",
   "metadata": {},
   "outputs": [],
   "source": [
    "def initiate_ellipsoid(dataset_path, json_path):\n",
    "    \"\"\"\n",
    "    Create ellipsoid tissue as a sheet with mesodermal cells\n",
    "    dataset_path: initial hf45 file\n",
    "    json_path: json spec file\n",
    "    \"\"\"\n",
    "    dsets = hdf5.load_datasets(dataset_path,\n",
    "                               data_names=['vert', 'edge', 'face'])\n",
    "\n",
    "    with open(json_path, 'r+') as fp:\n",
    "        specs = json.load(fp)\n",
    "\n",
    "    sheet = Sheet('ellipse', dsets, specs)\n",
    "\n",
    "    # Modify some initial value\n",
    "    sheet.settings['threshold_length'] = 1e-3\n",
    "    sheet.settings['vitelline_space'] = 0.2\n",
    "    sheet.vert_df['radial_tension'] = 0.\n",
    "    sheet.settings['lumen_prefered_vol'] = 4539601.384437251\n",
    "    sheet.settings['lumen_vol_elasticity'] = 3.e-6\n",
    "    sheet.edge_df.cell = np.nan\n",
    "\n",
    "\n",
    "    return sheet"
   ]
  },
  {
   "cell_type": "code",
   "execution_count": null,
   "id": "32c74189",
   "metadata": {},
   "outputs": [],
   "source": [
    "sheet = initiate_ellipsoid('ellipsoid_sheet_init.hf5',\n",
    "                         'ellipsoid.json')"
   ]
  },
  {
   "cell_type": "code",
   "execution_count": null,
   "id": "68c9f435",
   "metadata": {},
   "outputs": [],
   "source": [
    "datasets = extrude(sheet.datasets, method='homotecy', scale=0.9)\n",
    "\n",
    "monolayer = Monolayer('mono_embryo', datasets)\n",
    "monolayer.vert_df['z'] += 5\n",
    "\n",
    "ClosedMonolayerGeometry.update_all(monolayer)\n",
    "\n",
    "ipv.clear()\n",
    "\n",
    "fig, mesh = sheet_view(monolayer, mode=\"3D\")\n",
    "fig\n"
   ]
  },
  {
   "cell_type": "code",
   "execution_count": null,
   "id": "5c98c433",
   "metadata": {},
   "outputs": [],
   "source": [
    "monolayer.face_df['prefered_area'] = monolayer.face_df['area']/5\n",
    "monolayer.face_df['prefered_perimeter'] = 3 * np.sqrt(monolayer.face_df['prefered_area'])\n",
    "monolayer.face_df['area_elasticity'] = 1\n",
    "monolayer.face_df['perimeter_elasticity'] = 0.5\n",
    "monolayer.cell_df['volume_elasticity'] = 1\n",
    "monolayer.cell_df['prefered_volume'] = 1\n",
    "\n",
    "monolayer.settings['lumen_prefered_volume'] = 4539601.384437251 *50/100\n",
    "monolayer.settings['lumen_volume_elasticity'] = 3.e-6\n",
    "monolayer.settings.update(sheet.settings)"
   ]
  },
  {
   "cell_type": "code",
   "execution_count": null,
   "id": "02b1f8a9",
   "metadata": {},
   "outputs": [],
   "source": [
    "class VitellineElasticity(effectors.AbstractEffector):\n",
    "\n",
    "    dimensions = units.line_elasticity\n",
    "    magnitude = 'vitelline_K'\n",
    "    label = 'Vitelline elasticity'\n",
    "    element = 'vert'\n",
    "    specs = {\n",
    "        'vert': {\n",
    "            'vitelline_K': 280,\n",
    "            'is_active': 1.0,\n",
    "            'delta_rho': 1.0}\n",
    "    }  # distance to the vitelline membrane\n",
    "\n",
    "    @staticmethod\n",
    "    def energy(eptm):\n",
    "        return eptm.vert_df.eval(\n",
    "            'delta_rho**2 * vitelline_K/2')\n",
    "\n",
    "    @staticmethod\n",
    "    def gradient(eptm):\n",
    "        grad = height_grad(eptm) * _to_3d(\n",
    "            eptm.vert_df.eval('vitelline_K * delta_rho'))\n",
    "        grad.columns = ['g' + c for c in eptm.coords]\n",
    "        return grad, None\n",
    "    \n",
    "class ClosedEllipsoidGeometry(ClosedMonolayerGeometry):\n",
    "    @staticmethod\n",
    "    def update_height(eptm):\n",
    "\n",
    "        a, b, c = eptm.settings[\"abc\"]\n",
    "        eptm.vert_df[\"theta\"] = np.arcsin((eptm.vert_df.z / c).clip(-1, 1))\n",
    "        eptm.vert_df[\"vitelline_rho\"] = a * np.cos(eptm.vert_df[\"theta\"])\n",
    "        eptm.vert_df[\"basal_shift\"] = (\n",
    "            eptm.vert_df[\"vitelline_rho\"] - eptm.specs[\"vert\"][\"basal_shift\"]\n",
    "        )\n",
    "        eptm.vert_df[\"delta_rho\"] = (\n",
    "            np.linalg.norm(eptm.vert_df[[\"x\", \"y\"]], axis=1)\n",
    "            - eptm.vert_df[\"vitelline_rho\"]\n",
    "        ).clip(lower=0)\n",
    "\n",
    "        SheetGeometry.update_height(eptm)\n",
    "\n",
    "    @staticmethod\n",
    "    def scale(eptm, scale, coords):\n",
    "        SheetGeometry.scale(eptm, scale, coords)\n",
    "        eptm.settings[\"abc\"] = [u * scale for u in eptm.settings[\"abc\"]]\n"
   ]
  },
  {
   "cell_type": "code",
   "execution_count": null,
   "id": "730d4628",
   "metadata": {},
   "outputs": [],
   "source": [
    "model = model_factory(\n",
    "    [\n",
    "        VitellineElasticity, \n",
    "#         effectors.LineTension,\n",
    "        effectors.FaceAreaElasticity,\n",
    "        effectors.PerimeterElasticity,\n",
    "        effectors.CellVolumeElasticity,\n",
    "        effectors.LumenVolumeElasticity,\n",
    "    ],\n",
    ")\n",
    "\n",
    "# Manager\n",
    "manager = EventManager('face')"
   ]
  },
  {
   "cell_type": "code",
   "execution_count": null,
   "id": "8a290a78",
   "metadata": {},
   "outputs": [],
   "source": [
    "solver_qs = QSSolver(with_t1=False, with_t3=False, with_collisions=False)\n",
    "\n",
    "# manager.append(reconnect_3D)\n",
    "for i in range(1):\n",
    "    print('------------TEMPS------------')\n",
    "    print(i)\n",
    "    manager.execute(monolayer)\n",
    "    \n",
    "    res = solver_qs.find_energy_min(monolayer, ClosedEllipsoidGeometry, model, periodic=False, options={\"gtol\": 1e-8})\n",
    "    if res.success is False:\n",
    "        print (i, res.success)\n",
    "        \n",
    "    monolayer.vert_df[[\"x\", \"y\"]] += np.random.normal(scale=1e-3, size=(monolayer.Nv, 2))\n",
    "    manager.update()\n",
    "#     save_datasets(os.path.join(test,'monolayer'+str(i)+'.hf5'), monolayer)\n",
    "    "
   ]
  },
  {
   "cell_type": "code",
   "execution_count": null,
   "id": "725706ba",
   "metadata": {},
   "outputs": [],
   "source": [
    "ipv.clear()\n",
    "\n",
    "fig, mesh = sheet_view(monolayer, mode=\"3D\")\n",
    "fig\n"
   ]
  },
  {
   "cell_type": "code",
   "execution_count": null,
   "id": "a3afa286",
   "metadata": {},
   "outputs": [],
   "source": [
    "from tyssue.io.meshes import save_triangular_mesh\n",
    "save_triangular_mesh('monolayer_3d.vtk', monolayer)"
   ]
  },
  {
   "cell_type": "code",
   "execution_count": null,
   "id": "ee3271fe",
   "metadata": {},
   "outputs": [],
   "source": [
    "monolayer.vert_df"
   ]
  },
  {
   "cell_type": "code",
   "execution_count": null,
   "id": "f8186cbd",
   "metadata": {},
   "outputs": [],
   "source": []
  },
  {
   "cell_type": "code",
   "execution_count": null,
   "id": "9ce6f5d8",
   "metadata": {},
   "outputs": [],
   "source": []
  }
 ],
 "metadata": {
  "kernelspec": {
   "display_name": "Python 3 (ipykernel)",
   "language": "python",
   "name": "python3"
  },
  "language_info": {
   "codemirror_mode": {
    "name": "ipython",
    "version": 3
   },
   "file_extension": ".py",
   "mimetype": "text/x-python",
   "name": "python",
   "nbconvert_exporter": "python",
   "pygments_lexer": "ipython3",
   "version": "3.9.12"
  }
 },
 "nbformat": 4,
 "nbformat_minor": 5
}
