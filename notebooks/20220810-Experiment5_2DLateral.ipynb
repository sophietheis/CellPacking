{
 "cells": [
  {
   "cell_type": "code",
   "execution_count": null,
   "id": "8adda1a2",
   "metadata": {},
   "outputs": [],
   "source": [
    "import numpy as np\n",
    "import pandas as pd \n",
    "\n",
    "from tyssue.solvers import QSSolver\n",
    "from tyssue.behaviors.event_manager import EventManager\n",
    "from tyssue.behaviors.sheet.basic_events import reconnect\n",
    "from tyssue.dynamics import model_factory, effectors\n",
    "from tyssue.geometry.planar_geometry import AnnularGeometry\n",
    "from tyssue.utils import modify_segments\n",
    "\n",
    "from tyssue.draw import sheet_view\n",
    "\n",
    "from CellPacking.tissuegeneration import generate_ellipsis, EllipsisGeometry\n",
    "from CellPacking.plot import superimpose_sheet_view\n",
    "\n",
    "\n",
    "import matplotlib.pyplot as plt"
   ]
  },
  {
   "cell_type": "code",
   "execution_count": null,
   "id": "ed996d22",
   "metadata": {},
   "outputs": [],
   "source": [
    "def model_init(sheet, specs, modifiers):\n",
    "    \n",
    "    sheet.update_specs(specs, reset=True)\n",
    "    modify_segments(sheet, modifiers)"
   ]
  },
  {
   "cell_type": "code",
   "execution_count": null,
   "id": "b359d2e0",
   "metadata": {},
   "outputs": [],
   "source": [
    "a = 10\n",
    "b = 4\n",
    "cell_height = 1.5\n",
    "barrier_height = 2\n",
    "ellipsis = generate_ellipsis(Nf=150, a=a, b=b, cell_height=cell_height, apical='out') \n",
    "\n",
    "specs = {'settings':{'lumen_prefered_vol': np.pi*a*b*1.2,\n",
    "                    'lumen_volume': np.pi*a*b,\n",
    "                    'lumen_vol': np.pi*a*b,\n",
    "                    'lumen_elasticity':3e-6, \n",
    "                    'geometry':'flat',\n",
    "                    'barrier_height':barrier_height, \n",
    "                    'inside':'basal'},\n",
    "         \n",
    "        'vert':{ 'basal_shift':0,\n",
    "               'barrier_elasticity':100,\n",
    "               'is_active':1},\n",
    "         \n",
    "        'face':{'prefered_area':0.8,\n",
    "                 'area_elasticity':10,\n",
    "                 'is_alive':1,},\n",
    "         \n",
    "        'edge': {#'line_tension':1,\n",
    "                  'is_active':1},\n",
    "                  }\n",
    "\n",
    "modifiers = {\n",
    "    'apical': {\n",
    "        'edge': {'line_tension': 1, # gamma\n",
    "                 }\n",
    "        },\n",
    "    'basal': {\n",
    "        'edge': {'line_tension': 1, # beta\n",
    "                 }\n",
    "        },\n",
    "    'lateral': {\n",
    "        'edge': {'line_tension': 1/2,  # alpha (accounting for double half edges)\n",
    "                 }\n",
    "        },\n",
    "    }\n",
    "\n",
    "\n",
    "\n",
    "model_init(ellipsis, specs, modifiers)\n",
    "\n",
    "ellipsis.scoords = [\"s\" + c for c in ellipsis.coords]\n",
    "ellipsis.tcoords = [\"t\" + c for c in ellipsis.coords]\n",
    "\n",
    "EllipsisGeometry.update_all(ellipsis)"
   ]
  },
  {
   "cell_type": "code",
   "execution_count": null,
   "id": "eb160e70",
   "metadata": {},
   "outputs": [],
   "source": [
    "ellipsis_init = ellipsis.copy(deep_copy=True)"
   ]
  },
  {
   "cell_type": "code",
   "execution_count": null,
   "id": "e87e41c8",
   "metadata": {},
   "outputs": [],
   "source": [
    "fig, ax = sheet_view(ellipsis_init)\n",
    "fig.set_size_inches((20,20))"
   ]
  },
  {
   "cell_type": "code",
   "execution_count": null,
   "id": "e2bf9237",
   "metadata": {},
   "outputs": [],
   "source": []
  },
  {
   "cell_type": "code",
   "execution_count": null,
   "id": "59ad9f81",
   "metadata": {},
   "outputs": [],
   "source": [
    "# Solver\n",
    "solver_qs = QSSolver(with_t1=False, with_t3=False, with_collisions=False)\n",
    "\n",
    "\n",
    "from CellPacking.tissuegeneration import BarrierElasticity\n",
    "# Model\n",
    "model = model_factory(\n",
    "    [\n",
    "        BarrierElasticity,\n",
    "        effectors.FaceAreaElasticity,\n",
    "#         effectors.LineTension,\n",
    "        effectors.LumenAreaElasticity,\n",
    "    ])\n",
    "\n",
    "# ellipsis.vert_df[[\"x\", \"y\"]] += np.random.normal(scale=0.1, size=(ellipsis.Nv, 2))\n",
    "# EllipsisGeometry.update_all(ellipsis)\n",
    "\n",
    "res = solver_qs.find_energy_min(ellipsis, EllipsisGeometry, model, periodic=False, options={\"gtol\": 1e-2})\n",
    "print (res.success)"
   ]
  },
  {
   "cell_type": "code",
   "execution_count": null,
   "id": "fb402747",
   "metadata": {},
   "outputs": [],
   "source": [
    "from tyssue.draw.plt_draw import quick_edge_draw\n",
    "fig = superimpose_sheet_view(ellipsis_init, ellipsis, ['init', 'equilibrium'])\n",
    "\n",
    "fig.update_yaxes(\n",
    "    scaleanchor = \"x\",\n",
    "    scaleratio = 1,\n",
    "  )\n",
    "\n",
    "fig"
   ]
  },
  {
   "cell_type": "code",
   "execution_count": null,
   "id": "eb5c71b0",
   "metadata": {},
   "outputs": [],
   "source": [
    "from tyssue.draw.plt_draw import plot_forces, plot_scaled_energies\n",
    "ellipsis_init.scoords = [\"s\" + c for c in ellipsis_init.coords]\n",
    "ellipsis_init.tcoords = [\"t\" + c for c in ellipsis_init.coords]\n",
    "\n",
    "fig, ax = plot_forces(ellipsis_init, EllipsisGeometry, model, list('xy'), 0.1 )\n",
    "\n",
    "theta = np.arctan((ellipsis_init.vert_df.x / ellipsis_init.vert_df.y))\n",
    "ax.plot((a+barrier_height)*np.cos(theta), (b+barrier_height)*np.sin(theta),'.', markersize=50)\n",
    "\n",
    "\n",
    "fig.set_size_inches((100,100))"
   ]
  },
  {
   "cell_type": "code",
   "execution_count": null,
   "id": "26fe7abc",
   "metadata": {},
   "outputs": [],
   "source": [
    "from tyssue.draw.plt_draw import plot_forces, plot_scaled_energies\n",
    "fig, ax = plot_forces(ellipsis, EllipsisGeometry, model, list('xy'), 0.1 )\n",
    "\n",
    "\n",
    "# position de la barriere\n",
    "theta = np.arctan((ellipsis.vert_df.x / ellipsis.vert_df.y))\n",
    "ellipsis.vert_df['theta2'] = np.arctan((ellipsis.vert_df.y / ellipsis.vert_df.x))\n",
    "ax.plot((a+barrier_height)*np.cos(theta), (b+barrier_height)*np.sin(theta),'.', markersize=50)\n",
    "\n",
    "x = ellipsis.vert_df[ellipsis.vert_df[\"delta_rho\"]>0][\"x\"]\n",
    "y = ellipsis.vert_df[ellipsis.vert_df[\"delta_rho\"]>0][\"y\"]\n",
    "ax.plot(x,y, '.', markersize=50)\n",
    "\n",
    "# ax.plot(ellipsis.vert_df.barrier_rho*np.cos(t), ellipsis.vert_df.barrier_rho*np.sin(t),'.', markersize=20)\n",
    "\n",
    "# ax.plot(ellipsis.vert_df.x*np.cos(t), ellipsis.vert_df.y*np.sin(t), '.', markersize=20)\n",
    "\n",
    "fig.set_size_inches((100,100))"
   ]
  },
  {
   "cell_type": "code",
   "execution_count": null,
   "id": "8fced029",
   "metadata": {},
   "outputs": [],
   "source": [
    "plt.hist(ellipsis.edge_df[ellipsis.edge_df['segment']=='lateral']['length'], alpha=0.5)\n",
    "plt.hist(ellipsis_init.edge_df[ellipsis_init.edge_df['segment']=='lateral']['length'], alpha=0.5)"
   ]
  },
  {
   "cell_type": "code",
   "execution_count": null,
   "id": "f7667d7c",
   "metadata": {},
   "outputs": [],
   "source": [
    "plt.hist(ellipsis.face_df['area'],alpha=0.5)\n",
    "plt.hist(ellipsis_init.face_df['area'],alpha=0.5)"
   ]
  },
  {
   "cell_type": "code",
   "execution_count": null,
   "id": "63f4d008",
   "metadata": {},
   "outputs": [],
   "source": [
    "scales = np.linspace(0.8, 1.2, 30)\n",
    "fig, ax = plot_scaled_energies(ellipsis, EllipsisGeometry, model,\n",
    "                               scales, ax=None)\n",
    "fig.set_size_inches((10,10))"
   ]
  },
  {
   "cell_type": "code",
   "execution_count": null,
   "id": "544a626e",
   "metadata": {},
   "outputs": [],
   "source": [
    "ellipsis.edge_df[['sx','sy','tx','ty','rx', 'ry', 'dx','dy','fx','fy', 'nz']]"
   ]
  },
  {
   "cell_type": "code",
   "execution_count": null,
   "id": "c1923938",
   "metadata": {},
   "outputs": [],
   "source": []
  },
  {
   "cell_type": "code",
   "execution_count": null,
   "id": "e1602ace",
   "metadata": {},
   "outputs": [],
   "source": []
  },
  {
   "cell_type": "code",
   "execution_count": null,
   "id": "09d37542",
   "metadata": {},
   "outputs": [],
   "source": [
    "import numpy as np\n",
    "from shapely.geometry.polygon import LinearRing, LineString\n",
    "\n",
    "def ellipse_polyline(ellipses, n=100):\n",
    "    t = np.linspace(0, 2*np.pi, n, endpoint=False)\n",
    "    st = np.sin(t)\n",
    "    ct = np.cos(t)\n",
    "    result = []\n",
    "    for x0, y0, a, b, angle in ellipses:\n",
    "        angle = np.deg2rad(angle)\n",
    "        sa = np.sin(angle)\n",
    "        ca = np.cos(angle)\n",
    "        p = np.empty((n, 2))\n",
    "        p[:, 0] = x0 + a * ca * ct - b * sa * st\n",
    "        p[:, 1] = y0 + a * sa * ct + b * ca * st\n",
    "        result.append(p)\n",
    "    return result\n",
    "\n",
    "def intersections(a, b):\n",
    "    ea = LinearRing(a)\n",
    "    eb = LinearRing(b)\n",
    "    mp = ea.intersection(eb)\n",
    "    if type(mp)==LineString:\n",
    "        return None, None\n",
    "    x = [p.x for p in mp]\n",
    "    y = [p.y for p in mp]\n",
    "    return x, y\n",
    "\n",
    "\n",
    "\n",
    "# U, S, V = np.linalg.svd(np.stack((ellipsis.vert_df[ellipsis.vert_df['segment']=='apical']['x'], \n",
    "#                                  ellipsis.vert_df[ellipsis.vert_df['segment']=='apical']['y'])))\n",
    "# tt = np.linspace(0, 2*np.pi, 1000)\n",
    "# circle = np.stack((np.cos(tt), np.sin(tt)))  \n",
    "# transform = np.sqrt(2/300) * U.dot(np.diag(S))\n",
    "# fit = transform.dot(circle)\n",
    "\n",
    "\n",
    "\n",
    "for i in np.arange(0.1, 3, 0.01):\n",
    "    ellipses = [(0, 0, ellipsis.vert_df['x'].max(), ellipsis.vert_df['y'].max(), 0), (ellipsis.vert_df.loc[20]['x'], ellipsis.vert_df.loc[20]['y'], i, i, 0)]\n",
    "#     ellipses = [(0, 0, fit[0:].max(), fit[1:].max(), 0), (ellipsis.vert_df.loc[0]['x'], ellipsis.vert_df.loc[0]['y'], i, i, 0)]\n",
    "    a, b = ellipse_polyline(ellipses)\n",
    "    x, y = intersections(a, b)\n",
    "    if x is not None:\n",
    "        break\n",
    "print(x,y)\n",
    "\n",
    "fig, ax = plot_forces(ellipsis, EllipsisGeometry, model, list('xy'), 0.1 )\n",
    "ax.plot(x, y, \"o\")\n",
    "ax.plot(ellipsis.vert_df.loc[20]['x'], ellipsis.vert_df.loc[20]['y'],'.', markersize=20)\n",
    "ax.plot(a[:,0], a[:,1])\n",
    "ax.plot(b[:,0], b[:,1])\n",
    "\n",
    "ax.set_aspect('equal')\n",
    "fig.set_size_inches((50,50))"
   ]
  },
  {
   "cell_type": "code",
   "execution_count": null,
   "id": "c36fa383",
   "metadata": {},
   "outputs": [],
   "source": []
  },
  {
   "cell_type": "code",
   "execution_count": null,
   "id": "57bd59e8",
   "metadata": {},
   "outputs": [],
   "source": []
  },
  {
   "cell_type": "code",
   "execution_count": null,
   "id": "b57a3e59",
   "metadata": {},
   "outputs": [],
   "source": []
  },
  {
   "cell_type": "code",
   "execution_count": null,
   "id": "15ac864e",
   "metadata": {},
   "outputs": [],
   "source": []
  }
 ],
 "metadata": {
  "kernelspec": {
   "display_name": "Python 3 (ipykernel)",
   "language": "python",
   "name": "python3"
  },
  "language_info": {
   "codemirror_mode": {
    "name": "ipython",
    "version": 3
   },
   "file_extension": ".py",
   "mimetype": "text/x-python",
   "name": "python",
   "nbconvert_exporter": "python",
   "pygments_lexer": "ipython3",
   "version": "3.9.12"
  }
 },
 "nbformat": 4,
 "nbformat_minor": 5
}
