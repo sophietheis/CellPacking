{
 "cells": [
  {
   "cell_type": "code",
   "execution_count": null,
   "id": "f1d8b566",
   "metadata": {},
   "outputs": [],
   "source": [
    "# Import\n",
    "import os\n",
    "import pandas as pd\n",
    "import numpy as np\n",
    "\n",
    "from pathlib import Path\n",
    "\n",
    "from CellPacking.tissuegeneration import sheet_init\n",
    "from CellPacking.dynamics import Compression, AnisotropicLineTension, ShearPlanarGeometry\n",
    "\n",
    "from tyssue import Sheet\n",
    "from tyssue import PlanarGeometry\n",
    "from tyssue.solvers import QSSolver\n",
    "from tyssue.solvers.viscous import EulerSolver\n",
    "from tyssue.behaviors.event_manager import EventManager\n",
    "from tyssue.behaviors.sheet.basic_events import reconnect\n",
    "from tyssue.dynamics import model_factory, effectors\n",
    "from tyssue.core.history import HistoryHdf5 \n",
    "\n",
    "\n",
    "import matplotlib.pyplot as plt\n",
    "from tyssue.draw import sheet_view\n",
    "from CellPacking.plot import superimpose_sheet_view\n",
    "from CellPacking.plot import sheet_view as ply_sheet_view"
   ]
  },
  {
   "cell_type": "code",
   "execution_count": null,
   "id": "3017a83e",
   "metadata": {},
   "outputs": [],
   "source": [
    "SIM_DIR = Path('/home/u2175049/Documents/Simulations_test')\n",
    "sim_save_dir = SIM_DIR\n",
    "try:\n",
    "    os.mkdir(sim_save_dir)\n",
    "except FileExistsError:\n",
    "    pass"
   ]
  },
  {
   "cell_type": "code",
   "execution_count": null,
   "id": "13160251",
   "metadata": {},
   "outputs": [],
   "source": [
    "# %pdb"
   ]
  },
  {
   "cell_type": "markdown",
   "id": "414f5113",
   "metadata": {},
   "source": [
    "# Apical sheet init"
   ]
  },
  {
   "cell_type": "code",
   "execution_count": null,
   "id": "42a5b195",
   "metadata": {},
   "outputs": [],
   "source": [
    "# Number of cells in x and y axis\n",
    "nx = 20\n",
    "ny = 20\n",
    "noise = 0.3\n",
    "gamma_0 = 0.\n",
    "phi = np.pi/2\n",
    "\n",
    "try : \n",
    "    apical_sheet, geom = sheet_init(nx, ny, gamma_0, phi, noise)\n",
    "except IndexError :\n",
    "    apical_sheet, geom = sheet_init(nx, ny, gamma_0, phi, noise)\n",
    "\n",
    "    \n",
    "apical_sheet.get_opposite()\n",
    "    \n",
    "apical_sheet.update_specs({\"settings\":{\"dt\":0.01,\n",
    "                                     'threshold_length': 0.01,\n",
    "                                     'p_4': 0.1,\n",
    "                                     'p_5p': 0.01,}})\n",
    "\n",
    "apical_sheet.face_df['prefered_area'] = 1.\n",
    "apical_sheet.face_df['area_elasticity'] = 1.\n",
    "apical_sheet.face_df['prefered_perimeter'] = 3*np.sqrt(apical_sheet.face_df['prefered_area'] )\n",
    "apical_sheet.face_df['perimeter_elasticity'] = 1.\n",
    "apical_sheet.vert_df['viscosity'] = 1.0\n",
    "apical_sheet.edge_df['is_active'] = 1"
   ]
  },
  {
   "cell_type": "code",
   "execution_count": null,
   "id": "81d01ba1",
   "metadata": {},
   "outputs": [],
   "source": []
  },
  {
   "cell_type": "code",
   "execution_count": null,
   "id": "c2c6a538",
   "metadata": {},
   "outputs": [],
   "source": [
    "fig, ax = sheet_view(apical_sheet, **{'edge':\n",
    "                                    {'color':apical_sheet.edge_df['gamma'],\n",
    "                                    'colormap':'bwr'}})\n",
    "ax.set_aspect('equal')\n",
    "fig.set_size_inches((12, 12))"
   ]
  },
  {
   "cell_type": "markdown",
   "id": "d0096437",
   "metadata": {},
   "source": [
    "# QSSolver, Manager & Model definition\n",
    "\n",
    "We use the QS solver once to start the simulation next with sheet at an equilibrium stage. \n",
    "\n",
    "At this stage we don't apply any anisotropic line tension."
   ]
  },
  {
   "cell_type": "code",
   "execution_count": null,
   "id": "db1eaab7",
   "metadata": {},
   "outputs": [],
   "source": [
    "# Solver\n",
    "solver_qs = QSSolver(with_t1=True, with_t3=False, with_collisions=False)\n",
    "\n",
    "# Manager\n",
    "manager = EventManager('face')\n",
    "# manager.append(reconnect)\n",
    "\n",
    "\n",
    "# Model\n",
    "model = model_factory(\n",
    "    [\n",
    "#         AnisotropicLineTension, \n",
    "        effectors.FaceAreaElasticity,\n",
    "#         effectors.PerimeterElasticity,\n",
    "    ])"
   ]
  },
  {
   "cell_type": "code",
   "execution_count": null,
   "id": "fb4c50a6",
   "metadata": {},
   "outputs": [],
   "source": [
    "for i in range(20):\n",
    "#     print(i)\n",
    "    manager.execute(apical_sheet)\n",
    "    res = solver_qs.find_energy_min(apical_sheet, ShearPlanarGeometry, model, periodic=False, options={\"gtol\": 1e-8})\n",
    "    if res.success is False:\n",
    "        print (res)\n",
    "    apical_sheet.vert_df[[\"x\", \"y\"]] += np.random.normal(scale=1e-3, size=(apical_sheet.Nv, 2))\n",
    "    ShearPlanarGeometry.update_all(apical_sheet)\n",
    "    manager.update()"
   ]
  },
  {
   "cell_type": "code",
   "execution_count": null,
   "id": "78561c16",
   "metadata": {},
   "outputs": [],
   "source": [
    "fig, ax = sheet_view(apical_sheet, **{'edge':\n",
    "                                    {'color':apical_sheet.edge_df['gamma'],\n",
    "                                    'colormap':'PiYG'}})\n",
    "ax.set_aspect('equal')\n",
    "fig.set_size_inches((12, 12))"
   ]
  },
  {
   "cell_type": "code",
   "execution_count": null,
   "id": "0e34caa9",
   "metadata": {},
   "outputs": [],
   "source": []
  },
  {
   "cell_type": "code",
   "execution_count": null,
   "id": "4ec07700",
   "metadata": {},
   "outputs": [],
   "source": [
    "from tyssue.draw.plt_draw import plot_forces, plot_scaled_energies\n",
    "fig, ax = plot_forces(apical_sheet, ShearPlanarGeometry, model, list('xy'), 0.1 )\n",
    "fig.set_size_inches((20,20))\n"
   ]
  },
  {
   "cell_type": "code",
   "execution_count": null,
   "id": "6280bf0d",
   "metadata": {},
   "outputs": [],
   "source": []
  },
  {
   "cell_type": "code",
   "execution_count": null,
   "id": "3b4d0f4b",
   "metadata": {},
   "outputs": [],
   "source": []
  },
  {
   "cell_type": "markdown",
   "id": "2d1d35f4",
   "metadata": {},
   "source": [
    "# Monolayer creation"
   ]
  },
  {
   "cell_type": "code",
   "execution_count": null,
   "id": "a1ef0609",
   "metadata": {},
   "outputs": [],
   "source": [
    "\n",
    "from tyssue.generation import extrude \n",
    "from tyssue import Monolayer\n",
    "from CellPacking.dynamics import ShearMonolayerGeometry\n",
    "\n",
    "geom = ShearMonolayerGeometry\n",
    "\n",
    "apical_sheet.face_df['z'] = 0.5\n",
    "apical_sheet.edge_df['z'] = 0.5\n",
    "apical_sheet.vert_df['z'] = 0.5\n",
    "\n",
    "extruded = extrude(apical_sheet.datasets, method='translation')\n",
    "monolayer = Monolayer('mono', extruded)\n",
    "geom.update_all(monolayer)\n",
    "monolayer.sanitize(trim_borders=True, order_edges=True)\n",
    "monolayer.validate()\n",
    "\n",
    "monolayer.face_df['prefered_area'] = 1.0\n",
    "monolayer.face_df['area_elasticity'] = 1.0\n",
    "\n",
    "monolayer.face_df['prefered_perimeter'] = 3 * np.sqrt(monolayer.face_df['prefered_area'])\n",
    "monolayer.face_df['perimeter_elasticity'] = 1.0\n",
    "\n",
    "monolayer.update_specs({\"settings\":{\"dt\":0.1,\n",
    "                                     'threshold_length': 0.01,\n",
    "                                     'p_4': 0.4,\n",
    "                                     'p_5p': 0.4,\n",
    "                                      \"nrj_norm_factor\": 1.0},\n",
    "                      \"cell\": {\n",
    "                                \"x\": 0.0,\n",
    "                                \"prefered_vol\": 1.5,\n",
    "                                \"area\": 0.0,\n",
    "                                \"area_elasticity\": 0.05,\n",
    "                                \"prefered_area\": 6.0,\n",
    "                                \"is_alive\": True,\n",
    "                                \"num_faces\": 6,\n",
    "                                \"vol\": 0.0,\n",
    "                                \"vol_elasticity\": 1.0,\n",
    "                                \"z\": 0.0,\n",
    "                                \"y\": 0.0},\n",
    "                      \"edge\": {\n",
    "                                \"dx\": 0.0,\n",
    "                                \"srce\": 0,\n",
    "                                \"line_tension\": 0.0,\n",
    "                                \"face\": 0,\n",
    "                                \"dy\": 0.0,\n",
    "                                \"ny\": 0.0,\n",
    "                                \"nx\": 0.0,\n",
    "                                \"prefered_length\": 0.8,\n",
    "                                \"border_elasticity\": 2.0,\n",
    "                                \"length\": 0.0,\n",
    "                                \"nz\": 0.0,\n",
    "                                \"cell\": 0,\n",
    "                                \"sub_vol\": 0.0,\n",
    "                                \"dz\": 0.0,\n",
    "                                \"sub_area\": 0.0,\n",
    "                                \"trgt\": 0},\n",
    "                      \"vert\": {\n",
    "                                \"x\": 0.0,\n",
    "                                \"is_active\": True,\n",
    "                                \"z\": 0.0,\n",
    "                                \"y\": 0.0},\n",
    "                      \"face\": {\n",
    "                                \"x\": 0.0,\n",
    "                                \"is_alive\": True,\n",
    "                                \"contractility\": 0.0,\n",
    "                                \"z\": 0.0,\n",
    "                                \"y\": 0.0,}\n",
    "                    })"
   ]
  },
  {
   "cell_type": "code",
   "execution_count": null,
   "id": "937536bc",
   "metadata": {},
   "outputs": [],
   "source": []
  },
  {
   "cell_type": "code",
   "execution_count": null,
   "id": "2224b72a",
   "metadata": {},
   "outputs": [],
   "source": [
    "fig = superimpose_sheet_view(monolayer.get_sub_sheet('apical'), monolayer.get_sub_sheet('basal'), ['apical', 'basal'])\n",
    "fig.show()"
   ]
  },
  {
   "cell_type": "code",
   "execution_count": null,
   "id": "48e32894",
   "metadata": {},
   "outputs": [],
   "source": []
  },
  {
   "cell_type": "code",
   "execution_count": null,
   "id": "f9f3e5b6",
   "metadata": {},
   "outputs": [],
   "source": []
  },
  {
   "cell_type": "code",
   "execution_count": null,
   "id": "7b8a3880",
   "metadata": {},
   "outputs": [],
   "source": []
  },
  {
   "cell_type": "code",
   "execution_count": null,
   "id": "810958bb",
   "metadata": {},
   "outputs": [],
   "source": []
  },
  {
   "cell_type": "code",
   "execution_count": null,
   "id": "7b9071f5",
   "metadata": {},
   "outputs": [],
   "source": []
  },
  {
   "cell_type": "code",
   "execution_count": null,
   "id": "711bb4ed",
   "metadata": {},
   "outputs": [],
   "source": []
  },
  {
   "cell_type": "code",
   "execution_count": null,
   "id": "cf1e8035",
   "metadata": {},
   "outputs": [],
   "source": []
  },
  {
   "cell_type": "markdown",
   "id": "4c1324c1",
   "metadata": {
    "scrolled": false
   },
   "source": [
    "# Euler solver"
   ]
  },
  {
   "cell_type": "code",
   "execution_count": null,
   "id": "0d096ffe",
   "metadata": {},
   "outputs": [],
   "source": [
    "# Model\n",
    "# model = model_factory(\n",
    "#     [\n",
    "#         AnisotropicLineTension,\n",
    "#         effectors.FaceAreaElasticity,\n",
    "#         effectors.PerimeterElasticity,\n",
    "#     ], effectors.FaceAreaElasticity)\n",
    "\n",
    "model = model_factory(\n",
    "    [\n",
    "        AnisotropicLineTension,\n",
    "#         effectors.LineTension,\n",
    "        effectors.FaceAreaElasticity,\n",
    "#         effectors.PerimeterElasticity,\n",
    "        effectors.CellAreaElasticity,\n",
    "        effectors.BorderElasticity,\n",
    "        effectors.CellVolumeElasticity,\n",
    "    ],\n",
    ")\n",
    "\n",
    "# Manager\n",
    "manager = EventManager('face', track_event=False)\n",
    "\n",
    "monolayer.get_opposite_faces()\n",
    "edge_opp_face = monolayer.upcast_face(monolayer.face_df['opposite'])\n",
    "monolayer.edge_df['is_border']=False\n",
    "monolayer.edge_df.loc[edge_opp_face[edge_opp_face==-1].index, 'is_border']=True\n",
    "\n",
    "\n",
    "monolayer.edge_df.loc[monolayer.edge_df['segment']=='basal', 'gamma_0'] = 0.\n",
    "monolayer.edge_df.loc[monolayer.edge_df['segment']=='lateral', 'gamma_0'] = 0.\n",
    "monolayer.edge_df['gamma_0'] = pd.to_numeric(monolayer.edge_df['gamma_0'])\n",
    "monolayer.edge_df['opposite'] = pd.to_numeric(monolayer.edge_df['opposite'])\n",
    "monolayer.edge_df['phi0'] = pd.to_numeric(monolayer.edge_df['phi0'])\n",
    "monolayer.edge_df['z'] = pd.to_numeric(monolayer.edge_df['z'])\n",
    "\n",
    "\n",
    "# monolayer.edge_df['at_x_boundary'] = False\n",
    "# monolayer.edge_df['at_y_boundary'] = False\n",
    "# monolayer.edge_df['at_x_boundary'] = pd.to_numeric(monolayer.edge_df['at_x_boundary'])\n",
    "# monolayer.edge_df['at_y_boundary'] = pd.to_numeric(monolayer.edge_df['at_y_boundary'])\n",
    "\n",
    "# monolayer.face_df['at_x_boundary'] = pd.to_numeric(monolayer.face_df['at_x_boundary'])\n",
    "# monolayer.face_df['at_y_boundary'] = pd.to_numeric(monolayer.face_df['at_y_boundary'])\n",
    "\n",
    "# monolayer.face_df.loc[monolayer.face_df['segment']=='lateral','is_active']=True\n",
    "# monolayer.face_df['is_active'] = pd.to_numeric(monolayer.face_df['is_active'])\n",
    "\n",
    "# monolayer.edge_df.loc[monolayer.edge_df['segment']=='lateral','is_active']=True\n",
    "\n",
    "monolayer.edge_df.loc[monolayer.edge_df['segment']=='basal', 'is_active']=False\n",
    "monolayer.edge_df['is_active'] = pd.to_numeric(monolayer.edge_df['is_active'])\n",
    "monolayer.face_df.loc[monolayer.face_df['segment']=='basal', 'is_active']=False\n",
    "monolayer.face_df['is_active'] = pd.to_numeric(monolayer.face_df['is_active'])\n",
    "\n",
    "geom.update_all(monolayer)\n",
    "\n"
   ]
  },
  {
   "cell_type": "code",
   "execution_count": null,
   "id": "05852b87",
   "metadata": {},
   "outputs": [],
   "source": []
  },
  {
   "cell_type": "code",
   "execution_count": null,
   "id": "8c72098e",
   "metadata": {},
   "outputs": [],
   "source": [
    "# solver_qs = QSSolver(with_t1=True, with_t3=False, with_collisions=False)\n",
    "# res = solver_qs.find_energy_min(monolayer, geom, model, periodic=False, options={\"gtol\": 1e-8})\n",
    "\n",
    "# # manager.append(reconnect)\n",
    "# for i in range(50):\n",
    "#     manager.execute(monolayer)\n",
    "#     res = solver_qs.find_energy_min(monolayer, geom, model, periodic=False, options={\"gtol\": 1e-8})\n",
    "# #     print(res.success)\n",
    "#     monolayer.vert_df[[\"x\", \"y\"]] += np.random.normal(scale=1e-3, size=(monolayer.Nv, 2))\n",
    "#     geom.update_all(monolayer)\n",
    "#     manager.update()"
   ]
  },
  {
   "cell_type": "code",
   "execution_count": null,
   "id": "0e5b1554",
   "metadata": {},
   "outputs": [],
   "source": [
    "# History\n",
    "history = HistoryHdf5(monolayer, \n",
    "                      hf5file=os.path.join(sim_save_dir, 'test.hf5'),\n",
    "                     track_event=False)\n",
    "\n",
    "# Solver\n",
    "solver = EulerSolver(monolayer,\n",
    "                     geom,\n",
    "                     model,\n",
    "                     history=history,\n",
    "                     manager=manager,\n",
    "                     auto_reconnect=True)"
   ]
  },
  {
   "cell_type": "code",
   "execution_count": null,
   "id": "88419cdd",
   "metadata": {},
   "outputs": [],
   "source": [
    "solver.solve(tf=0.2,\n",
    "             dt=apical_sheet.settings['dt'],\n",
    "            \n",
    "            )\n"
   ]
  },
  {
   "cell_type": "code",
   "execution_count": null,
   "id": "1191802d",
   "metadata": {},
   "outputs": [],
   "source": [
    "# sheet = monolayer.get_sub_sheet('basal')\n",
    "# fig, ax = sheet_view(sheet, **{'edge':\n",
    "#                                     {'color':sheet.edge_df['gamma'],\n",
    "#                                     'colormap':'PiYG'}})\n",
    "# ax.set_aspect('equal')\n",
    "# fig.set_size_inches((12, 12))"
   ]
  },
  {
   "cell_type": "code",
   "execution_count": null,
   "id": "f2cd83af",
   "metadata": {},
   "outputs": [],
   "source": []
  },
  {
   "cell_type": "code",
   "execution_count": null,
   "id": "721a81b4",
   "metadata": {},
   "outputs": [],
   "source": []
  },
  {
   "cell_type": "code",
   "execution_count": null,
   "id": "8b2adf72",
   "metadata": {},
   "outputs": [],
   "source": [
    "fig = superimpose_sheet_view(history.retrieve(0).get_sub_sheet('apical'), monolayer.get_sub_sheet('apical'), ['init', 'end'])\n",
    "fig.show()"
   ]
  },
  {
   "cell_type": "code",
   "execution_count": null,
   "id": "2bb5d677",
   "metadata": {},
   "outputs": [],
   "source": [
    "fig = superimpose_sheet_view(history.retrieve(0).get_sub_sheet('basal'), monolayer.get_sub_sheet('basal'), ['init', 'end'])\n",
    "fig.show()"
   ]
  },
  {
   "cell_type": "code",
   "execution_count": null,
   "id": "cc705c18",
   "metadata": {},
   "outputs": [],
   "source": [
    "fig = superimpose_sheet_view(history.retrieve(0).get_sub_sheet('apical'), history.retrieve(0).get_sub_sheet('basal'), ['apical', 'basal'])\n",
    "fig.show()"
   ]
  },
  {
   "cell_type": "code",
   "execution_count": null,
   "id": "f4db2216",
   "metadata": {},
   "outputs": [],
   "source": [
    "fig = superimpose_sheet_view(monolayer.get_sub_sheet('apical'), monolayer.get_sub_sheet('basal'), ['apical', 'basal'])\n",
    "fig.show()"
   ]
  },
  {
   "cell_type": "code",
   "execution_count": null,
   "id": "b1446871",
   "metadata": {},
   "outputs": [],
   "source": [
    "from tyssue.draw.plt_draw import plot_forces, plot_scaled_energies\n",
    "fig, ax = plot_forces(monolayer, geom, model, list('xy'), 0.1 )\n",
    "fig.set_size_inches((20,20))\n",
    "fig, ax = plot_forces(monolayer, geom, model, list('xz'), 0.1 )\n",
    "fig.set_size_inches((20,20))"
   ]
  },
  {
   "cell_type": "code",
   "execution_count": null,
   "id": "940b8dcd",
   "metadata": {},
   "outputs": [],
   "source": [
    "from tyssue.io.meshes import save_triangular_mesh\n",
    "save_triangular_mesh('monolayer.vtk', monolayer)"
   ]
  },
  {
   "cell_type": "code",
   "execution_count": null,
   "id": "5aaa0e2f",
   "metadata": {},
   "outputs": [],
   "source": []
  },
  {
   "cell_type": "code",
   "execution_count": null,
   "id": "98c0d9d0",
   "metadata": {},
   "outputs": [],
   "source": [
    "sheet = history.retrieve(0.5).get_sub_sheet('apical')\n",
    "fig, ax = sheet_view(sheet, **{'edge':\n",
    "                                    {'color':sheet.edge_df['gamma'],\n",
    "                                    'colormap':'bwr'}})\n",
    "ax.set_aspect('equal')\n",
    "fig.set_size_inches((12, 12))"
   ]
  },
  {
   "cell_type": "code",
   "execution_count": null,
   "id": "251e5165",
   "metadata": {},
   "outputs": [],
   "source": [
    "monolayer.face_df[monolayer.face_df['num_sides']==3].index\n",
    "np.unique(monolayer.edge_df[monolayer.edge_df['face'].isin(monolayer.face_df[monolayer.face_df['num_sides']==3].index)]['cell'])"
   ]
  },
  {
   "cell_type": "code",
   "execution_count": null,
   "id": "f09becc7",
   "metadata": {},
   "outputs": [],
   "source": []
  },
  {
   "cell_type": "code",
   "execution_count": null,
   "id": "8702200c",
   "metadata": {},
   "outputs": [],
   "source": []
  },
  {
   "cell_type": "code",
   "execution_count": null,
   "id": "ec4f458c",
   "metadata": {},
   "outputs": [],
   "source": [
    "dfsdfsdfs"
   ]
  },
  {
   "cell_type": "code",
   "execution_count": null,
   "id": "2a93dd45",
   "metadata": {},
   "outputs": [],
   "source": [
    "monolayer.vert_df.loc[monolayer.vert_df['segment']=='apical', 'z']=1\n",
    "monolayer.vert_df.loc[monolayer.vert_df['segment']=='basal', 'z']=-1"
   ]
  },
  {
   "cell_type": "code",
   "execution_count": null,
   "id": "af66f1a7",
   "metadata": {},
   "outputs": [],
   "source": [
    "np.unique(monolayer.edge_df[monolayer.edge_df['srce']==monolayer.vert_df[monolayer.vert_df['segment']=='lateral'].index[0]]['cell'].to_numpy())"
   ]
  },
  {
   "cell_type": "code",
   "execution_count": null,
   "id": "58651099",
   "metadata": {},
   "outputs": [],
   "source": [
    "fgfhf"
   ]
  },
  {
   "cell_type": "code",
   "execution_count": null,
   "id": "04ff2667",
   "metadata": {},
   "outputs": [],
   "source": [
    "import meshio\n",
    "\n",
    "def save_color_cell(filename, eptm, cell_number, coords=list('xyz'), color=[1., 0., 0., 0.1]):\n",
    "    \n",
    "    points, faces = monolayer.vertex_mesh(coords=coords, vertex_normals=False)\n",
    "    triangles_colours=[]\n",
    "    cells = []\n",
    "    cpt=0\n",
    "    for f in faces:\n",
    "        if cpt in np.unique(eptm.edge_df[eptm.edge_df['cell']==cell_number]['face']):\n",
    "            cells.append((\"triangle\", np.array([f])))\n",
    "            triangles_colours.append([color])\n",
    "        cpt+=1\n",
    "\n",
    "    mesh = meshio.Mesh(points, cells, cell_data={\"a\":triangles_colours})\n",
    "    meshio.vtk.write(filename, mesh)\n",
    "    return points, faces\n",
    "    \n",
    "\n",
    "save_triangular_mesh('monolayer.vtk', monolayer)\n",
    "center_cell = 150\n",
    "monolayer.edge_df[monolayer.edge_df['srce']==monolayer.vert_df[monolayer.vert_df['segment']=='lateral'].index[0]]['cell'].to_numpy()[0] \n",
    "points, faces = save_color_cell(str(center_cell)+'.vtk', monolayer, center_cell)\n",
    "print(center_cell)\n",
    "for c in monolayer.get_neighborhood(center_cell, 1)['cell'].to_numpy():\n",
    "    print(c)\n",
    "    save_color_cell(str(c)+'.vtk', monolayer, c, color=[0., 1., 0., 0.1])"
   ]
  },
  {
   "cell_type": "code",
   "execution_count": null,
   "id": "7aea057e",
   "metadata": {},
   "outputs": [],
   "source": [
    "monolayer.vert_df[monolayer.vert_df['segment']=='lateral']"
   ]
  },
  {
   "cell_type": "code",
   "execution_count": null,
   "id": "6f401d6a",
   "metadata": {},
   "outputs": [],
   "source": [
    "np.unique(apical_sheet_init.face_df.num_sides - history.retrieve(0.01).face_df.num_sides, return_counts=True)"
   ]
  },
  {
   "cell_type": "code",
   "execution_count": null,
   "id": "d5f3089b",
   "metadata": {},
   "outputs": [],
   "source": [
    "apical_sheet.face_df['color'] = 0\n",
    "nb_change = apical_sheet_init.face_df.num_sides - apical_sheet.face_df.num_sides\n",
    "apical_sheet.face_df.loc[nb_change[nb_change==1].index.to_numpy(), 'color'] = 1\n",
    "apical_sheet.face_df.loc[nb_change[nb_change>2].index.to_numpy(), 'color'] = 2\n",
    "apical_sheet.face_df.loc[nb_change[nb_change==-1].index.to_numpy(), 'color'] = -1\n",
    "apical_sheet.face_df.loc[nb_change[nb_change<-2].index.to_numpy(), 'color'] = -2\n",
    "\n",
    "\n",
    "import plotly.express as px\n",
    "import plotly.graph_objects as go\n",
    "import itertools\n",
    "from tyssue.core.objects import _ordered_edges\n",
    "from tyssue.draw.plt_draw import _get_lines\n",
    "\n",
    "\n",
    "a_lines_x, a_lines_y = _get_lines(apical_sheet_init, list('xy'))\n",
    "\n",
    "b_lines_x, b_lines_y = _get_lines(apical_sheet, list('xy'))\n",
    "\n",
    "df = pd.DataFrame([np.concatenate((a_lines_x, b_lines_x)),\n",
    "                   np.concatenate((a_lines_y, b_lines_y)), \n",
    "                   np.concatenate((np.repeat('start', len(a_lines_x)), np.repeat('end', len(b_lines_x))))])\n",
    "df = df.T\n",
    "df.columns = ['lines_x', 'lines_y', 'tyssue']\n",
    "\n",
    "fig = px.line(df, x='lines_x', y='lines_y', color='tyssue')\n",
    "\n",
    "\n",
    "# 2 changes or more\n",
    "color_cells = apical_sheet.face_df[apical_sheet.face_df['color']>=2].index\n",
    "apical_sheet.reset_index()\n",
    "for color_cell in color_cells:\n",
    "    edges = list(itertools.chain(*_ordered_edges(apical_sheet.edge_df[apical_sheet.edge_df['face']==color_cell])))[0::3]\n",
    "    fig.add_trace(go.Scatter(x=apical_sheet.vert_df.loc[edges]['x'].to_numpy(),\n",
    "                             y=apical_sheet.vert_df.loc[edges]['y'].to_numpy(),\n",
    "                            fill='toself',\n",
    "                             fillcolor='#EEA000',  #dark orange\n",
    "                             line=dict(width=0),\n",
    "                             showlegend=True,\n",
    "                             name = color_cell,\n",
    "                             mode='lines'))\n",
    "\n",
    "# # 1 change\n",
    "color_cells = apical_sheet.face_df[apical_sheet.face_df['color']==1].index\n",
    "apical_sheet.reset_index()\n",
    "for color_cell in color_cells:\n",
    "    edges = list(itertools.chain(*_ordered_edges(apical_sheet.edge_df[apical_sheet.edge_df['face']==color_cell])))[0::3]\n",
    "    fig.add_trace(go.Scatter(x=apical_sheet.vert_df.loc[edges]['x'].to_numpy(),\n",
    "                             y=apical_sheet.vert_df.loc[edges]['y'].to_numpy(),\n",
    "                            fill='toself',\n",
    "                             fillcolor='#EEE60C',  #light orange\n",
    "                             line=dict(width=0),\n",
    "                             showlegend=True,\n",
    "                             name = color_cell,\n",
    "                             mode='lines'))\n",
    "\n",
    "# # -1 change\n",
    "color_cells = apical_sheet.face_df[apical_sheet.face_df['color']==-1].index\n",
    "apical_sheet.reset_index()\n",
    "for color_cell in color_cells:\n",
    "    edges = list(itertools.chain(*_ordered_edges(apical_sheet.edge_df[apical_sheet.edge_df['face']==color_cell])))[0::3]\n",
    "    fig.add_trace(go.Scatter(x=apical_sheet.vert_df.loc[edges]['x'].to_numpy(),\n",
    "                             y=apical_sheet.vert_df.loc[edges]['y'].to_numpy(),\n",
    "                            fill='toself',\n",
    "                             fillcolor='#7CB5EF',  # blue \n",
    "                             line=dict(width=0),\n",
    "                             showlegend=True,\n",
    "                             name = color_cell,\n",
    "                             mode='lines'))\n",
    "    \n",
    "# # -2 change\n",
    "color_cells = apical_sheet.face_df[apical_sheet.face_df['color']==-2].index\n",
    "apical_sheet.reset_index()\n",
    "for color_cell in color_cells:\n",
    "    edges = list(itertools.chain(*_ordered_edges(apical_sheet.edge_df[apical_sheet.edge_df['face']==color_cell])))[0::3]\n",
    "    fig.add_trace(go.Scatter(x=apical_sheet.vert_df.loc[edges]['x'].to_numpy(),\n",
    "                             y=apical_sheet.vert_df.loc[edges]['y'].to_numpy(),\n",
    "                            fill='toself',\n",
    "                             fillcolor='#0566CA',  # dark blue \n",
    "                             line=dict(width=0),\n",
    "                             showlegend=True,\n",
    "                             name = color_cell,\n",
    "                             mode='lines'))\n",
    "\n",
    "\n",
    "fig.update_layout(\n",
    "    xaxis_range=[-10,10],\n",
    "    yaxis_range=[-10,10],\n",
    "    autosize=False,\n",
    "    width=1000,\n",
    "    height=1000,\n",
    ")\n",
    "\n",
    "fig.show()"
   ]
  },
  {
   "cell_type": "code",
   "execution_count": null,
   "id": "06bdee18",
   "metadata": {},
   "outputs": [],
   "source": [
    "new_e = []\n",
    "for k, v in history.trackevent.items():\n",
    "    if 'add_edge' in v:\n",
    "        if len(v['add_edge']) > 0:\n",
    "            new_e.append(v['add_edge'])\n",
    "new_e"
   ]
  },
  {
   "cell_type": "code",
   "execution_count": null,
   "id": "57deca75",
   "metadata": {},
   "outputs": [],
   "source": [
    "flatten_list = [element for sublist in new_e for element in sublist]\n",
    "len(flatten_list)/2\n"
   ]
  },
  {
   "cell_type": "code",
   "execution_count": null,
   "id": "80afc5ba",
   "metadata": {},
   "outputs": [],
   "source": []
  },
  {
   "cell_type": "code",
   "execution_count": null,
   "id": "6939c336",
   "metadata": {},
   "outputs": [],
   "source": [
    "history.trackevent"
   ]
  },
  {
   "cell_type": "code",
   "execution_count": null,
   "id": "a37284d2",
   "metadata": {},
   "outputs": [],
   "source": []
  },
  {
   "cell_type": "code",
   "execution_count": null,
   "id": "dd359f71",
   "metadata": {},
   "outputs": [],
   "source": []
  },
  {
   "cell_type": "code",
   "execution_count": null,
   "id": "0d365f76",
   "metadata": {},
   "outputs": [],
   "source": []
  },
  {
   "cell_type": "markdown",
   "id": "02688db1",
   "metadata": {},
   "source": [
    "# TEST"
   ]
  },
  {
   "cell_type": "code",
   "execution_count": null,
   "id": "91ba48bc",
   "metadata": {},
   "outputs": [],
   "source": []
  },
  {
   "cell_type": "code",
   "execution_count": null,
   "id": "8c6f2d77",
   "metadata": {},
   "outputs": [],
   "source": []
  },
  {
   "cell_type": "code",
   "execution_count": null,
   "id": "183017db",
   "metadata": {},
   "outputs": [],
   "source": []
  },
  {
   "cell_type": "code",
   "execution_count": null,
   "id": "786a1ea7",
   "metadata": {},
   "outputs": [],
   "source": []
  },
  {
   "cell_type": "code",
   "execution_count": null,
   "id": "82895a91",
   "metadata": {},
   "outputs": [],
   "source": []
  },
  {
   "cell_type": "code",
   "execution_count": null,
   "id": "d5247966",
   "metadata": {},
   "outputs": [],
   "source": []
  },
  {
   "cell_type": "code",
   "execution_count": null,
   "id": "c02e3368",
   "metadata": {},
   "outputs": [],
   "source": []
  },
  {
   "cell_type": "code",
   "execution_count": null,
   "id": "f4b9832c",
   "metadata": {},
   "outputs": [],
   "source": []
  },
  {
   "cell_type": "code",
   "execution_count": null,
   "id": "4f7d0d98",
   "metadata": {},
   "outputs": [],
   "source": []
  },
  {
   "cell_type": "code",
   "execution_count": null,
   "id": "77b9fc53",
   "metadata": {},
   "outputs": [],
   "source": []
  },
  {
   "cell_type": "code",
   "execution_count": null,
   "id": "b0349d58",
   "metadata": {},
   "outputs": [],
   "source": []
  },
  {
   "cell_type": "code",
   "execution_count": null,
   "id": "9162e76b",
   "metadata": {},
   "outputs": [],
   "source": []
  }
 ],
 "metadata": {
  "kernelspec": {
   "display_name": "Python 3 (ipykernel)",
   "language": "python",
   "name": "python3"
  },
  "language_info": {
   "codemirror_mode": {
    "name": "ipython",
    "version": 3
   },
   "file_extension": ".py",
   "mimetype": "text/x-python",
   "name": "python",
   "nbconvert_exporter": "python",
   "pygments_lexer": "ipython3",
   "version": "3.9.12"
  }
 },
 "nbformat": 4,
 "nbformat_minor": 5
}
