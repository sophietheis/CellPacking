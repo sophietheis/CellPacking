{
 "cells": [
  {
   "cell_type": "code",
   "execution_count": null,
   "id": "f1d8b566",
   "metadata": {},
   "outputs": [],
   "source": [
    "# Import\n",
    "import os\n",
    "import pandas as pd\n",
    "import numpy as np\n",
    "\n",
    "from pathlib import Path\n",
    "\n",
    "from CellPacking.tissuegeneration import sheet_init, symetric_circular\n",
    "from CellPacking.dynamics import (Compression, \n",
    "                                  AnisotropicLineTension, \n",
    "                                  ShearPlanarGeometry, \n",
    "                                  PlaneBarrierElasticity)\n",
    "\n",
    "from tyssue import Sheet\n",
    "from tyssue import PlanarGeometry\n",
    "from tyssue.solvers import QSSolver\n",
    "from tyssue.solvers.viscous import EulerSolver\n",
    "from tyssue.behaviors.event_manager import EventManager\n",
    "from tyssue.behaviors.sheet.basic_events import reconnect, reconnect_3D\n",
    "from tyssue.dynamics import model_factory, effectors\n",
    "from tyssue.core.history import HistoryHdf5 \n",
    "\n",
    "\n",
    "import matplotlib.pyplot as plt\n",
    "from tyssue.draw import sheet_view\n",
    "from CellPacking.plot import superimpose_sheet_view\n",
    "from CellPacking.plot import sheet_view as ply_sheet_view"
   ]
  },
  {
   "cell_type": "code",
   "execution_count": null,
   "id": "3017a83e",
   "metadata": {},
   "outputs": [],
   "source": [
    "SIM_DIR = Path('/mnt/sda1/Sophie/Simulations/20220905_w3D')\n",
    "sim_save_dir = SIM_DIR\n",
    "try:\n",
    "    os.mkdir(sim_save_dir)\n",
    "except FileExistsError:\n",
    "    pass"
   ]
  },
  {
   "cell_type": "code",
   "execution_count": null,
   "id": "13160251",
   "metadata": {},
   "outputs": [],
   "source": [
    "# %pdb"
   ]
  },
  {
   "cell_type": "markdown",
   "id": "414f5113",
   "metadata": {},
   "source": [
    "# Apical sheet init"
   ]
  },
  {
   "cell_type": "code",
   "execution_count": null,
   "id": "42a5b195",
   "metadata": {},
   "outputs": [],
   "source": [
    "# Number of cells in x and y axis\n",
    "nx = 20\n",
    "ny = 20\n",
    "noise = 0.3\n",
    "gamma_0 = 0.2\n",
    "phi = np.pi/2\n",
    "\n",
    "apical_sheet, border = symetric_circular(10, gamma_0, phi, 0,  noise=noise)\n",
    "apical_sheet.face_df['prefered_perimeter'] = 3 * np.sqrt(apical_sheet.face_df['prefered_area'])\n"
   ]
  },
  {
   "cell_type": "code",
   "execution_count": null,
   "id": "81d01ba1",
   "metadata": {},
   "outputs": [],
   "source": [
    "fig, ax = sheet_view(apical_sheet, **{'edge':\n",
    "                                    {'color':'black',\n",
    "                                    'colormap':'bwr'}})\n",
    "ax.set_aspect('equal')\n",
    "fig.set_size_inches((12, 12))"
   ]
  },
  {
   "cell_type": "code",
   "execution_count": null,
   "id": "54b55d98",
   "metadata": {},
   "outputs": [],
   "source": []
  },
  {
   "cell_type": "markdown",
   "id": "d0096437",
   "metadata": {},
   "source": [
    "# QSSolver, Manager & Model definition\n",
    "\n",
    "We use the QS solver once to start the simulation next with sheet at an equilibrium stage. \n",
    "\n",
    "At this stage we don't apply any anisotropic line tension."
   ]
  },
  {
   "cell_type": "code",
   "execution_count": null,
   "id": "db1eaab7",
   "metadata": {},
   "outputs": [],
   "source": [
    "# Solver\n",
    "solver_qs = QSSolver(with_t1=False, with_t3=False, with_collisions=False)\n",
    "\n",
    "manager = EventManager()\n",
    "manager.append(reconnect)\n",
    "# Model\n",
    "model = model_factory(\n",
    "    [\n",
    "        effectors.FaceAreaElasticity,\n",
    "        effectors.PerimeterElasticity, \n",
    "    ])"
   ]
  },
  {
   "cell_type": "code",
   "execution_count": null,
   "id": "fb4c50a6",
   "metadata": {},
   "outputs": [],
   "source": [
    "for i in range(10):\n",
    "    manager.execute(apical_sheet)\n",
    "    res = solver_qs.find_energy_min(apical_sheet, PlanarGeometry, model, periodic=False, options={\"gtol\": 1e-8})\n",
    "    if res.success is False:\n",
    "        print (i, res.success)\n",
    "    apical_sheet.vert_df[[\"x\", \"y\"]] += np.random.normal(scale=1e-3, size=(apical_sheet.Nv, 2))\n",
    "    PlanarGeometry.update_all(apical_sheet)\n",
    "    manager.update()"
   ]
  },
  {
   "cell_type": "code",
   "execution_count": null,
   "id": "78561c16",
   "metadata": {},
   "outputs": [],
   "source": [
    "fig, ax = sheet_view(apical_sheet, **{'edge':\n",
    "                                    {'color':\"black\",}})\n",
    "ax.set_aspect('equal')\n",
    "fig.set_size_inches((10, 10))"
   ]
  },
  {
   "cell_type": "code",
   "execution_count": null,
   "id": "0e34caa9",
   "metadata": {},
   "outputs": [],
   "source": []
  },
  {
   "cell_type": "code",
   "execution_count": null,
   "id": "3b4d0f4b",
   "metadata": {},
   "outputs": [],
   "source": []
  },
  {
   "cell_type": "code",
   "execution_count": null,
   "id": "ac32345b",
   "metadata": {},
   "outputs": [],
   "source": []
  },
  {
   "cell_type": "markdown",
   "id": "2d1d35f4",
   "metadata": {},
   "source": [
    "# Monolayer creation"
   ]
  },
  {
   "cell_type": "code",
   "execution_count": null,
   "id": "17e13bcf",
   "metadata": {},
   "outputs": [],
   "source": [
    "from tyssue.generation import extrude \n",
    "from tyssue import Monolayer\n",
    "from CellPacking.dynamics import ShearMonolayerGeometry"
   ]
  },
  {
   "cell_type": "code",
   "execution_count": null,
   "id": "a1ef0609",
   "metadata": {},
   "outputs": [],
   "source": [
    "apical_sheet.face_df['z'] = 1\n",
    "apical_sheet.edge_df['z'] = 1\n",
    "apical_sheet.vert_df['z'] = 1\n",
    "\n",
    "extruded = extrude(apical_sheet.datasets, method='translation', vector=[0, 0, -2])\n",
    "monolayer = Monolayer('mono', extruded)\n",
    "\n",
    "monolayer.sanitize(trim_borders=True, order_edges=True)\n",
    "monolayer.validate()\n",
    "\n",
    "\n",
    "monolayer.face_df['prefered_area'] = monolayer.face_df.loc[0,'prefered_area']\n",
    "monolayer.face_df['prefered_perimeter'] = 3*np.sqrt(monolayer.face_df['prefered_area'])\n",
    "monolayer.face_df['area_elasticity'] = 1\n",
    "monolayer.face_df['perimeter_elasticity'] = 0.1\n",
    "# monolayer.face_df.loc[monolayer.face_df['segment']=='lateral'.index,'perimeter_elasticity'] = 0.1\n",
    "\n",
    "\n",
    "monolayer.edge_df['gamma_0'] = pd.to_numeric(monolayer.edge_df['gamma_0'])\n",
    "\n",
    "monolayer.vert_df['barrier_elasticity'] = 280\n",
    "monolayer.vert_df['z_barrier'] = 0.6\n",
    "\n",
    "monolayer.update_specs({\"settings\":{\"dt\":0.01,\n",
    "                                     'threshold_length': 0.1,\n",
    "                                     'p_4': 1,\n",
    "                                     'p_5p': 1,\n",
    "                                     'nrj_norm_factor': 1.0, \n",
    "                                     'multiplier':3, },\n",
    "                      \"cell\": {\n",
    "                                \"x\": 0.0,\n",
    "                                \"y\": 0.0,\n",
    "                                \"z\": 0.0,\n",
    "                                \"is_alive\": True,\n",
    "                                \"prefered_volume\": 0.7,\n",
    "                                \"volume\": 0.7,\n",
    "                                \"volume_elasticity\": 0.5,\n",
    "                                \"z_barrier\":1.1,\n",
    "                                },\n",
    "                      \"edge\": {\n",
    "                                \"dx\": 0.0,\n",
    "                                \"srce\": 0,\n",
    "                                \"face\": 0,\n",
    "                                \"dy\": 0.0,\n",
    "                                \"ny\": 0.0,\n",
    "                                \"nx\": 0.0,\n",
    "                                \"length\": 0.0,\n",
    "                                \"nz\": 0.0,\n",
    "                                \"cell\": 0,\n",
    "                                \"sub_volume\": 0.0,\n",
    "                                \"dz\": 0.0,\n",
    "                                \"sub_area\": 0.0,\n",
    "                                \"trgt\": 0},\n",
    "                      \"vert\": {\n",
    "                                \"x\": 0.0,\n",
    "                                \"is_active\": True,\n",
    "                                \"z\": 0.0,\n",
    "                                \"y\": 0.0},\n",
    "                      \"face\": {\n",
    "                                \"x\": 0.0,\n",
    "                                \"is_alive\": True,\n",
    "                                \"z\": 0.0,\n",
    "                                \"y\": 0.0,}\n",
    "                    })\n",
    "\n",
    "\n",
    "ShearMonolayerGeometry.update_all(monolayer)\n",
    "\n",
    "monolayer.face_df['prefered_area'] = monolayer.face_df['area']\n",
    "monolayer.face_df['prefered_perimeter'] = 2*np.sqrt(monolayer.face_df['prefered_area'])\n",
    "\n",
    "ShearMonolayerGeometry.update_all(monolayer)"
   ]
  },
  {
   "cell_type": "code",
   "execution_count": null,
   "id": "937536bc",
   "metadata": {},
   "outputs": [],
   "source": [
    "monolayer_init = monolayer.copy(deep_copy=True)"
   ]
  },
  {
   "cell_type": "code",
   "execution_count": null,
   "id": "2224b72a",
   "metadata": {},
   "outputs": [],
   "source": [
    "fig = superimpose_sheet_view(monolayer.get_sub_sheet('apical'), monolayer.get_sub_sheet('basal'), ['apical', 'basal'])\n",
    "fig.show()"
   ]
  },
  {
   "cell_type": "code",
   "execution_count": null,
   "id": "48e32894",
   "metadata": {},
   "outputs": [],
   "source": []
  },
  {
   "cell_type": "code",
   "execution_count": null,
   "id": "cf1e8035",
   "metadata": {},
   "outputs": [],
   "source": []
  },
  {
   "cell_type": "code",
   "execution_count": null,
   "id": "8a6785b6",
   "metadata": {},
   "outputs": [],
   "source": []
  },
  {
   "cell_type": "markdown",
   "id": "4c1324c1",
   "metadata": {
    "scrolled": false
   },
   "source": [
    "# Euler solver"
   ]
  },
  {
   "cell_type": "code",
   "execution_count": null,
   "id": "0d096ffe",
   "metadata": {},
   "outputs": [],
   "source": [
    "# Manager\n",
    "manager = EventManager('face')#, track_event=False)\n",
    "\n",
    "monolayer = monolayer_init.copy(deep_copy=True)\n",
    "monolayer.get_opposite_faces()\n",
    "\n",
    "monolayer.get_opposite_faces()\n",
    "edge_opp_face = monolayer.upcast_face(monolayer.face_df['opposite'])\n",
    "monolayer.edge_df['is_border']=False\n",
    "monolayer.edge_df.loc[edge_opp_face[edge_opp_face==-1].index, 'is_border']=True\n",
    "\n",
    "monolayer.edge_df['opposite'] = pd.to_numeric(monolayer.edge_df['opposite'])\n",
    "monolayer.edge_df['z'] = pd.to_numeric(monolayer.edge_df['z'])\n",
    "\n",
    "ShearMonolayerGeometry.update_all(monolayer)\n",
    "\n",
    "from tyssue.io.meshes import save_triangular_mesh\n",
    "save_triangular_mesh('monolayer_init.vtk', monolayer)"
   ]
  },
  {
   "cell_type": "code",
   "execution_count": null,
   "id": "9715b596",
   "metadata": {},
   "outputs": [],
   "source": [
    "# Model\n",
    "model = model_factory(\n",
    "    [\n",
    "        PlaneBarrierElasticity,\n",
    "#         effectors.LineTension,\n",
    "        effectors.FaceAreaElasticity,\n",
    "        effectors.PerimeterElasticity,\n",
    "        effectors.CellVolumeElasticity,\n",
    "    ],\n",
    ")\n",
    "manager.append(reconnect_3D)\n",
    "solver_qs = QSSolver(with_t1=False, with_t3=False, with_collisions=False)\n",
    "\n",
    "for i in range(10):\n",
    "    print('------------TEMPS------------')\n",
    "    print(i)\n",
    "    manager.execute(monolayer)\n",
    "    \n",
    "    res = solver_qs.find_energy_min(monolayer, ShearMonolayerGeometry, model, periodic=False, options={\"gtol\": 1e-8})\n",
    "    if res.success is False:\n",
    "        \n",
    "        print (i, res.success)\n",
    "    monolayer.vert_df[[\"x\", \"y\"]] += np.random.normal(scale=1e-3, size=(monolayer.Nv, 2))\n",
    "    ShearMonolayerGeometry.update_all(monolayer)\n",
    "    manager.update()\n",
    "save_triangular_mesh('monolayer_before_forces.vtk', monolayer)"
   ]
  },
  {
   "cell_type": "code",
   "execution_count": null,
   "id": "3ebce854",
   "metadata": {},
   "outputs": [],
   "source": [
    "fig = superimpose_sheet_view(monolayer.get_sub_sheet('apical'), monolayer.get_sub_sheet('basal'), ['apical', 'basal'])\n",
    "fig.show()"
   ]
  },
  {
   "cell_type": "code",
   "execution_count": null,
   "id": "8c72098e",
   "metadata": {},
   "outputs": [],
   "source": [
    "# Model\n",
    "from tyssue.io.hdf5 import save_datasets\n",
    "model = model_factory(\n",
    "    [\n",
    "        PlaneBarrierElasticity,\n",
    "        effectors.LineTension,\n",
    "        effectors.FaceAreaElasticity,\n",
    "        effectors.PerimeterElasticity,\n",
    "        effectors.CellVolumeElasticity,\n",
    "    ],\n",
    ")\n",
    "\n",
    "solver_qs = QSSolver(with_t1=False, with_t3=False, with_collisions=False)\n",
    "\n",
    "manager.append(reconnect_3D)\n",
    "for i in range(50):\n",
    "    print('------------TEMPS------------')\n",
    "    print(i)\n",
    "    manager.execute(monolayer)\n",
    "    \n",
    "    res = solver_qs.find_energy_min(monolayer, ShearMonolayerGeometry, model, periodic=False, options={\"gtol\": 1e-8})\n",
    "    if res.success is False:\n",
    "        print (i, res.success)\n",
    "        \n",
    "    monolayer.vert_df[[\"x\", \"y\"]] += np.random.normal(scale=1e-3, size=(monolayer.Nv, 2))\n",
    "    manager.update()\n",
    "    save_datasets(os.path.join(sim_save_dir,'monolayer'+str(i)+'.hf5'), monolayer)\n",
    "    \n",
    "# for j in range(10):\n",
    "#     res = solver_qs.find_energy_min(monolayer, ShearMonolayerGeometry, model, periodic=False, options={\"gtol\": 1e-8})\n",
    "#     save_datasets(os.path.join(sim_save_dir,'monolayer'+str(i+1)+'.hf5'), monolayer)"
   ]
  },
  {
   "cell_type": "code",
   "execution_count": null,
   "id": "0e5b1554",
   "metadata": {},
   "outputs": [],
   "source": [
    "fig = superimpose_sheet_view(monolayer.get_sub_sheet('apical'), monolayer.get_sub_sheet('basal'), ['apical', 'basal'])\n",
    "fig.show()"
   ]
  },
  {
   "cell_type": "code",
   "execution_count": null,
   "id": "88419cdd",
   "metadata": {},
   "outputs": [],
   "source": [
    "connect_to_basal = False\n",
    "for s in monolayer.vert_df[monolayer.vert_df['segment']=='apical'].index:\n",
    "    tt = monolayer.edge_df[monolayer.edge_df.srce==s]['trgt']\n",
    "    for t in tt:\n",
    "        if monolayer.vert_df.loc[t]['segment']=='basal':\n",
    "            connect_to_basal=True\n",
    "            break\n",
    "        elif monolayer.vert_df.loc[t]['segment']=='lateral':\n",
    "            connect_to_basal=True\n",
    "            break\n",
    "    if connect_to_basal==False:\n",
    "        print(s, monolayer.edge_df[monolayer.edge_df['srce']==s]['cell'].unique())\n",
    "    else:\n",
    "        connect_to_basal=False\n",
    "\n",
    "        \n",
    "connect_to_basal = False\n",
    "for s in monolayer.vert_df[monolayer.vert_df['segment']=='basal'].index:\n",
    "    tt = monolayer.edge_df[monolayer.edge_df.srce==s]['trgt']\n",
    "    for t in tt:\n",
    "        if monolayer.vert_df.loc[t]['segment']=='apical':\n",
    "            connect_to_basal=True\n",
    "            break\n",
    "        elif monolayer.vert_df.loc[t]['segment']=='lateral':\n",
    "            connect_to_basal=True\n",
    "            break\n",
    "    if connect_to_basal==False:\n",
    "        print(s, monolayer.edge_df[monolayer.edge_df['srce']==s]['cell'].unique())\n",
    "    else:\n",
    "        connect_to_basal=False\n",
    "    "
   ]
  },
  {
   "cell_type": "code",
   "execution_count": null,
   "id": "66d1af97",
   "metadata": {},
   "outputs": [],
   "source": [
    "len(np.unique(monolayer.edge_df[(monolayer.edge_df['face'].isin(monolayer.face_df[monolayer.face_df['num_sides']==3].index)) &\n",
    "                  (monolayer.edge_df['segment']=='lateral')]['cell'])), monolayer.Nc"
   ]
  },
  {
   "cell_type": "code",
   "execution_count": null,
   "id": "1191802d",
   "metadata": {},
   "outputs": [],
   "source": [
    "from tyssue.io.meshes import save_triangular_mesh\n",
    "save_triangular_mesh('monolayer.vtk', monolayer)\n",
    "save_triangular_mesh('monolayer_apical.vtk', monolayer.get_sub_sheet('apical'))\n",
    "save_triangular_mesh('monolayer_basal.vtk', monolayer.get_sub_sheet('basal'))"
   ]
  },
  {
   "cell_type": "code",
   "execution_count": null,
   "id": "967e4fb2",
   "metadata": {},
   "outputs": [],
   "source": []
  },
  {
   "cell_type": "code",
   "execution_count": null,
   "id": "f2cd83af",
   "metadata": {},
   "outputs": [],
   "source": [
    "from tyssue.draw.plt_draw import plot_forces, plot_scaled_energies\n",
    "fig, ax  = plot_scaled_energies(monolayer, ShearMonolayerGeometry, model, scales=[0.1, 2])\n",
    "\n",
    "fig, ax = sheet_view(monolayer.get_sub_sheet('apical'), **{'edge':\n",
    "                                    {'color':monolayer.get_sub_sheet('apical').edge_df['gamma'],\n",
    "                                    'colormap':'bwr'}})\n",
    "fig, ax = plot_forces(monolayer, ShearMonolayerGeometry, model, list('xy'), 0.1, ax=ax)\n",
    "\n",
    "fig.set_size_inches((20,20))\n",
    "fig, ax = plot_forces(monolayer, ShearMonolayerGeometry, model, list('xz'), 0.1 )\n",
    "fig.set_size_inches((20,20))\n",
    "fig, ax = plot_forces(monolayer, ShearMonolayerGeometry, model, list('yz'), 0.1 )\n",
    "fig.set_size_inches((20,20))"
   ]
  },
  {
   "cell_type": "code",
   "execution_count": null,
   "id": "bfada75f",
   "metadata": {},
   "outputs": [],
   "source": []
  },
  {
   "cell_type": "code",
   "execution_count": null,
   "id": "78fbeaad",
   "metadata": {},
   "outputs": [],
   "source": []
  },
  {
   "cell_type": "code",
   "execution_count": null,
   "id": "cfbbfccf",
   "metadata": {},
   "outputs": [],
   "source": [
    "import time\n",
    "from plyer import notification\n",
    "notification.notify(\n",
    "    title = \"ALERT!!!\",\n",
    "    message = \"It is finish\",\n",
    "    timeout=10\n",
    ")"
   ]
  },
  {
   "cell_type": "code",
   "execution_count": null,
   "id": "6539187b",
   "metadata": {},
   "outputs": [],
   "source": [
    "for c in range(monolayer.Nf):\n",
    "    faces = np.unique(monolayer.edge_df[monolayer.edge_df['cell']==c]['face'])\n",
    "    for f in faces :\n",
    "        if monolayer.face_df.loc[f, 'segment']=='apical':\n",
    "            a_sides = monolayer.face_df.loc[f, \"num_sides\"]\n",
    "        elif monolayer.face_df.loc[f, 'segment']=='basal':\n",
    "            b_sides = monolayer.face_df.loc[f, \"num_sides\"]\n",
    "    if a_sides != b_sides : \n",
    "        if a_sides-b_sides>1:\n",
    "            print(c)"
   ]
  },
  {
   "cell_type": "code",
   "execution_count": null,
   "id": "1e970a1f",
   "metadata": {},
   "outputs": [],
   "source": []
  },
  {
   "cell_type": "code",
   "execution_count": null,
   "id": "8b2adf72",
   "metadata": {},
   "outputs": [],
   "source": [
    "import meshio\n",
    "\n",
    "def save_color_cell(monolayer, filename, eptm, cell_number, coords=list('xyz'), color=[1., 0., 0., 0.1]):\n",
    "    \n",
    "    points, faces = monolayer.vertex_mesh(coords=coords, vertex_normals=False)\n",
    "    triangles_colours=[]\n",
    "    cells = []\n",
    "    cpt=0\n",
    "    for f in faces:\n",
    "        if cpt in np.unique(eptm.edge_df[eptm.edge_df['cell']==cell_number]['face']):\n",
    "            cells.append((\"triangle\", np.array([f])))\n",
    "            triangles_colours.append([color])\n",
    "        cpt+=1\n",
    "\n",
    "    mesh = meshio.Mesh(points, cells, cell_data={\"a\":triangles_colours})\n",
    "    meshio.vtk.write(filename, mesh)\n",
    "    return points, faces\n",
    "    "
   ]
  },
  {
   "cell_type": "code",
   "execution_count": null,
   "id": "2bb5d677",
   "metadata": {},
   "outputs": [],
   "source": []
  },
  {
   "cell_type": "code",
   "execution_count": null,
   "id": "c86e053e",
   "metadata": {},
   "outputs": [],
   "source": []
  },
  {
   "cell_type": "code",
   "execution_count": null,
   "id": "65c3d2dd",
   "metadata": {},
   "outputs": [],
   "source": [
    "# from tyssue.io.hdf5 import load_datasets\n",
    "# i = 2\n",
    "# monolayer_ = Monolayer(\"monolayer\",load_datasets(\"monolayer\"+str(i)+\".hf5\"))\n",
    "# save_triangular_mesh('monolayer_'+str(i)+'.vtk', monolayer_)\n",
    "# # save_triangular_mesh('monolayer_apical_'+str(i)+'.vtk', monolayer_.get_sub_sheet('apical'))\n",
    "# # save_triangular_mesh('monolayer_basal_'+str(i)+'.vtk', monolayer_.get_sub_sheet('basal'))\n",
    "# cells = [198]\n",
    "\n",
    "# for center_cell in cells:\n",
    "#     points, faces = save_color_cell(monolayer_, str(center_cell)+'_'+str(i)+'.vtk', monolayer_, center_cell)"
   ]
  },
  {
   "cell_type": "code",
   "execution_count": null,
   "id": "f4db2216",
   "metadata": {},
   "outputs": [],
   "source": [
    "from tyssue.io.meshes import save_triangular_mesh\n",
    "# save_triangular_mesh('monolayer__.vtk', monolayer_)\n",
    "cells = [192, 191, 172, 171]\n",
    "for center_cell in cells:\n",
    "    print(center_cell)\n",
    "    points, faces = save_color_cell(monolayer, str(center_cell)+'__.vtk', monolayer, center_cell)\n"
   ]
  },
  {
   "cell_type": "code",
   "execution_count": null,
   "id": "b1446871",
   "metadata": {},
   "outputs": [],
   "source": []
  },
  {
   "cell_type": "code",
   "execution_count": null,
   "id": "940b8dcd",
   "metadata": {},
   "outputs": [],
   "source": []
  },
  {
   "cell_type": "code",
   "execution_count": null,
   "id": "5aaa0e2f",
   "metadata": {},
   "outputs": [],
   "source": []
  },
  {
   "cell_type": "code",
   "execution_count": null,
   "id": "98c0d9d0",
   "metadata": {},
   "outputs": [],
   "source": []
  },
  {
   "cell_type": "code",
   "execution_count": null,
   "id": "251e5165",
   "metadata": {},
   "outputs": [],
   "source": [
    "np.unique(monolayer.edge_df[monolayer.edge_df['face'].isin(monolayer.face_df[monolayer.face_df['num_sides']==3].index)]['cell'])"
   ]
  },
  {
   "cell_type": "code",
   "execution_count": null,
   "id": "f09becc7",
   "metadata": {},
   "outputs": [],
   "source": [
    "len(np.unique(monolayer.edge_df[(monolayer.edge_df['face'].isin(monolayer.face_df[monolayer.face_df['num_sides']==3].index)) &\n",
    "                  (monolayer.edge_df['segment']=='lateral')]['cell']))"
   ]
  },
  {
   "cell_type": "code",
   "execution_count": null,
   "id": "8702200c",
   "metadata": {},
   "outputs": [],
   "source": [
    "monolayer.Nc"
   ]
  },
  {
   "cell_type": "code",
   "execution_count": null,
   "id": "ec4f458c",
   "metadata": {},
   "outputs": [],
   "source": [
    "monolayer.edge_df[monolayer.edge_df['face']==954]['cell']"
   ]
  },
  {
   "cell_type": "code",
   "execution_count": null,
   "id": "2a93dd45",
   "metadata": {},
   "outputs": [],
   "source": [
    "monolayer.face_df[(monolayer.face_df['segment']==\"lateral\") & (monolayer.face_df['num_sides']==3)]"
   ]
  },
  {
   "cell_type": "code",
   "execution_count": null,
   "id": "af66f1a7",
   "metadata": {},
   "outputs": [],
   "source": [
    "# cell with triangle ab face\n",
    "np.unique(monolayer.edge_df[\n",
    "    monolayer.edge_df['srce'].isin(monolayer.vert_df[monolayer.vert_df['segment']=='lateral'].index)]['cell'].to_numpy())"
   ]
  },
  {
   "cell_type": "code",
   "execution_count": null,
   "id": "04ff2667",
   "metadata": {},
   "outputs": [],
   "source": [
    "\n",
    "\n",
    "save_triangular_mesh('monolayer.vtk', monolayer)\n",
    "cells = [255]\n",
    "# cells = np.unique(monolayer.edge_df[\n",
    "#     monolayer.edge_df['srce'].isin(monolayer.vert_df[monolayer.vert_df['segment']=='lateral'].index)]['cell'].to_numpy())\n",
    "\n",
    "for center_cell in cells:\n",
    "    # monolayer.edge_df[monolayer.edge_df['srce']==monolayer.vert_df[monolayer.vert_df['segment']=='lateral'].index[0]]['cell'].to_numpy()[0] \n",
    "    points, faces = save_color_cell(monolayer, str(center_cell)+'.vtk', monolayer, center_cell)\n",
    "#     print(center_cell)\n",
    "#     for c in monolayer.get_neighborhood(center_cell, 1)['cell'].to_numpy():\n",
    "#         print(c)\n",
    "#         save_color_cell(monolayer, str(c)+'.vtk', monolayer, c, color=[0., 1., 0., 0.1])"
   ]
  },
  {
   "cell_type": "code",
   "execution_count": null,
   "id": "7b5aeb95",
   "metadata": {},
   "outputs": [],
   "source": []
  },
  {
   "cell_type": "code",
   "execution_count": null,
   "id": "f6bf7294",
   "metadata": {},
   "outputs": [],
   "source": [
    "cells = []\n",
    "\n",
    "for center_cell in cells:    \n",
    "    points, faces = save_color_cell(monolayer_init, '_'+str(center_cell)+'.vtk', monolayer_init, center_cell)\n",
    "    print(center_cell)\n",
    "    for c in monolayer_init.get_neighborhood(center_cell, 1)['cell'].to_numpy():\n",
    "        print(c)\n",
    "        save_color_cell(monolayer_init, '_'+str(c)+'.vtk', monolayer_init, c, color=[0., 1., 0., 0.1])"
   ]
  },
  {
   "cell_type": "code",
   "execution_count": null,
   "id": "e5f8eca1",
   "metadata": {},
   "outputs": [],
   "source": []
  },
  {
   "cell_type": "code",
   "execution_count": null,
   "id": "7aea057e",
   "metadata": {},
   "outputs": [],
   "source": []
  },
  {
   "cell_type": "code",
   "execution_count": null,
   "id": "21dc2a66",
   "metadata": {},
   "outputs": [],
   "source": []
  },
  {
   "cell_type": "code",
   "execution_count": null,
   "id": "6f401d6a",
   "metadata": {},
   "outputs": [],
   "source": []
  },
  {
   "cell_type": "code",
   "execution_count": null,
   "id": "d5f3089b",
   "metadata": {},
   "outputs": [],
   "source": []
  },
  {
   "cell_type": "code",
   "execution_count": null,
   "id": "06bdee18",
   "metadata": {},
   "outputs": [],
   "source": []
  },
  {
   "cell_type": "code",
   "execution_count": null,
   "id": "57deca75",
   "metadata": {},
   "outputs": [],
   "source": []
  },
  {
   "cell_type": "code",
   "execution_count": null,
   "id": "80afc5ba",
   "metadata": {},
   "outputs": [],
   "source": []
  },
  {
   "cell_type": "code",
   "execution_count": null,
   "id": "6939c336",
   "metadata": {},
   "outputs": [],
   "source": []
  },
  {
   "cell_type": "code",
   "execution_count": null,
   "id": "a37284d2",
   "metadata": {},
   "outputs": [],
   "source": [
    "plt.plot(np.append(monolayer.edge_df[monolayer.edge_df['face']==70]['sx'].to_numpy(),\n",
    "                    monolayer.edge_df[monolayer.edge_df['face']==70].iloc[0]['sx']),\n",
    "         np.append(monolayer.edge_df[monolayer.edge_df['face']==70]['sy'].to_numpy(),\n",
    "                    monolayer.edge_df[monolayer.edge_df['face']==70].iloc[0]['sy']))\n"
   ]
  },
  {
   "cell_type": "code",
   "execution_count": null,
   "id": "dd359f71",
   "metadata": {},
   "outputs": [],
   "source": []
  },
  {
   "cell_type": "code",
   "execution_count": null,
   "id": "0d365f76",
   "metadata": {},
   "outputs": [],
   "source": []
  },
  {
   "cell_type": "markdown",
   "id": "02688db1",
   "metadata": {},
   "source": [
    "# TEST"
   ]
  },
  {
   "cell_type": "code",
   "execution_count": null,
   "id": "91ba48bc",
   "metadata": {},
   "outputs": [],
   "source": [
    "fig, ax = sheet_view(monolayer.get_sub_sheet('apical'), **{'edge':\n",
    "                                    {'color':'black',\n",
    "                                    'colormap':'bwr'}})\n",
    "\n",
    "for id_, val in monolayer.cell_df.iterrows():\n",
    "    ax.text(val.x, val.y, id_)\n",
    "\n",
    "ax.set_aspect('equal')\n",
    "fig.set_size_inches((20, 20))"
   ]
  },
  {
   "cell_type": "code",
   "execution_count": null,
   "id": "8c6f2d77",
   "metadata": {},
   "outputs": [],
   "source": []
  },
  {
   "cell_type": "code",
   "execution_count": null,
   "id": "183017db",
   "metadata": {},
   "outputs": [],
   "source": []
  },
  {
   "cell_type": "code",
   "execution_count": null,
   "id": "786a1ea7",
   "metadata": {},
   "outputs": [],
   "source": []
  },
  {
   "cell_type": "code",
   "execution_count": null,
   "id": "82895a91",
   "metadata": {},
   "outputs": [],
   "source": []
  },
  {
   "cell_type": "code",
   "execution_count": null,
   "id": "d5247966",
   "metadata": {},
   "outputs": [],
   "source": [
    "lateral_face_index = monolayer.face_df[(monolayer.face_df['segment']==\"lateral\")&\n",
    "                                       (monolayer.face_df['num_sides']==4)&\n",
    "                                      (monolayer.face_df['opposite']!=-1)].index\n",
    "angle = []\n",
    "edges = []\n",
    "for f in lateral_face_index:\n",
    "    if monolayer.edge_df[(monolayer.edge_df['face']==f)& \n",
    "                  (monolayer.edge_df['dz']<0.2) &\n",
    "                  (monolayer.edge_df['dz']>-0.2)].shape[0]==2:\n",
    "    \n",
    "        angle.append(np.arctan2(monolayer.edge_df[(monolayer.edge_df['face']==f) & \n",
    "                      (monolayer.edge_df['dz']<0.2) &\n",
    "                      (monolayer.edge_df['dz']>-0.2)][['dx','dy']].diff(axis=0).iloc[1]['dy'],\n",
    "              monolayer.edge_df[(monolayer.edge_df['face']==f) & \n",
    "                      (monolayer.edge_df['dz']<0.2) &\n",
    "                      (monolayer.edge_df['dz']>-0.2)][['dx','dy']].diff(axis=0).iloc[1]['dx']))\n",
    "        edges.append(monolayer.edge_df[(monolayer.edge_df['face']==f) & \n",
    "                      (monolayer.edge_df['dz']<0.2) &\n",
    "                      (monolayer.edge_df['dz']>-0.2)].index[0])\n",
    "    \n",
    "angle = np.array(angle)*180/np.pi\n",
    "\n",
    "angle = [180+a if a<0 else a for a in angle]\n",
    "angle = [180-a if a>90 else a for a in angle]\n",
    "angle=np.array(angle)\n",
    "twist_face = lateral_face_index[np.where(angle>45)]\n",
    "twist_edges = np.array(edges)[np.where(angle>45)]\n",
    "\n",
    "twist_face = twist_face[0::2]\n",
    "twist_edges = twist_edges[0::2]\n",
    "\n",
    "# cell_ = monolayer.edge_df[(monolayer.edge_df.face.isin(monolayer.face_df.loc[twist_face]['opposite'][0::2].to_numpy()))]['cell']\n"
   ]
  },
  {
   "cell_type": "code",
   "execution_count": null,
   "id": "c02e3368",
   "metadata": {},
   "outputs": [],
   "source": [
    "\n"
   ]
  },
  {
   "cell_type": "code",
   "execution_count": null,
   "id": "f4b9832c",
   "metadata": {},
   "outputs": [],
   "source": []
  },
  {
   "cell_type": "code",
   "execution_count": null,
   "id": "4f7d0d98",
   "metadata": {},
   "outputs": [],
   "source": []
  },
  {
   "cell_type": "code",
   "execution_count": null,
   "id": "77b9fc53",
   "metadata": {},
   "outputs": [],
   "source": []
  },
  {
   "cell_type": "code",
   "execution_count": null,
   "id": "b0349d58",
   "metadata": {},
   "outputs": [],
   "source": []
  },
  {
   "cell_type": "code",
   "execution_count": null,
   "id": "9162e76b",
   "metadata": {},
   "outputs": [],
   "source": []
  }
 ],
 "metadata": {
  "kernelspec": {
   "display_name": "Python 3 (ipykernel)",
   "language": "python",
   "name": "python3"
  },
  "language_info": {
   "codemirror_mode": {
    "name": "ipython",
    "version": 3
   },
   "file_extension": ".py",
   "mimetype": "text/x-python",
   "name": "python",
   "nbconvert_exporter": "python",
   "pygments_lexer": "ipython3",
   "version": "3.9.12"
  }
 },
 "nbformat": 4,
 "nbformat_minor": 5
}
